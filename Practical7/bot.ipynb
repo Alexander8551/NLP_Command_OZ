{
 "cells": [
  {
   "cell_type": "code",
   "execution_count": 1,
   "id": "fe926a3c-a4cf-41a4-9653-74e22b04f3d9",
   "metadata": {},
   "outputs": [
    {
     "name": "stdout",
     "output_type": "stream",
     "text": [
      "Requirement already satisfied: python-telegram-bot in f:\\anaconda3\\envs\\bot\\lib\\site-packages (22.0)\n",
      "Requirement already satisfied: ollama in f:\\anaconda3\\envs\\bot\\lib\\site-packages (0.4.7)\n",
      "Requirement already satisfied: nest_asyncio in f:\\anaconda3\\envs\\bot\\lib\\site-packages (1.6.0)\n",
      "Requirement already satisfied: dotenv in f:\\anaconda3\\envs\\bot\\lib\\site-packages (0.9.9)\n",
      "Requirement already satisfied: httpx~=0.27 in f:\\anaconda3\\envs\\bot\\lib\\site-packages (from python-telegram-bot) (0.27.0)\n",
      "Requirement already satisfied: pydantic<3.0.0,>=2.9.0 in f:\\anaconda3\\envs\\bot\\lib\\site-packages (from ollama) (2.10.6)\n",
      "Requirement already satisfied: python-dotenv in f:\\anaconda3\\envs\\bot\\lib\\site-packages (from dotenv) (1.1.0)\n",
      "Requirement already satisfied: anyio in f:\\anaconda3\\envs\\bot\\lib\\site-packages (from httpx~=0.27->python-telegram-bot) (4.6.2)\n",
      "Requirement already satisfied: certifi in f:\\anaconda3\\envs\\bot\\lib\\site-packages (from httpx~=0.27->python-telegram-bot) (2025.1.31)\n",
      "Requirement already satisfied: httpcore==1.* in f:\\anaconda3\\envs\\bot\\lib\\site-packages (from httpx~=0.27->python-telegram-bot) (1.0.2)\n",
      "Requirement already satisfied: idna in f:\\anaconda3\\envs\\bot\\lib\\site-packages (from httpx~=0.27->python-telegram-bot) (3.7)\n",
      "Requirement already satisfied: sniffio in f:\\anaconda3\\envs\\bot\\lib\\site-packages (from httpx~=0.27->python-telegram-bot) (1.3.0)\n",
      "Requirement already satisfied: h11<0.15,>=0.13 in f:\\anaconda3\\envs\\bot\\lib\\site-packages (from httpcore==1.*->httpx~=0.27->python-telegram-bot) (0.14.0)\n",
      "Requirement already satisfied: annotated-types>=0.6.0 in f:\\anaconda3\\envs\\bot\\lib\\site-packages (from pydantic<3.0.0,>=2.9.0->ollama) (0.7.0)\n",
      "Requirement already satisfied: pydantic-core==2.27.2 in f:\\anaconda3\\envs\\bot\\lib\\site-packages (from pydantic<3.0.0,>=2.9.0->ollama) (2.27.2)\n",
      "Requirement already satisfied: typing-extensions>=4.12.2 in f:\\anaconda3\\envs\\bot\\lib\\site-packages (from pydantic<3.0.0,>=2.9.0->ollama) (4.12.2)\n",
      "Note: you may need to restart the kernel to use updated packages.\n"
     ]
    }
   ],
   "source": [
    "%pip install python-telegram-bot ollama nest_asyncio dotenv"
   ]
  },
  {
   "cell_type": "code",
   "execution_count": null,
   "id": "460971a7-1536-40f9-b6dc-c442ebe0fb00",
   "metadata": {},
   "outputs": [
    {
     "name": "stderr",
     "output_type": "stream",
     "text": [
      "2025-03-25 22:57:12,339 - httpx - INFO - HTTP Request: POST https://api.telegram.org/bot7696980218:AAH9hdrW5tuhJqHEedo6xqa8mefddKaG7AE/getMe \"HTTP/1.1 200 OK\"\n",
      "2025-03-25 22:57:12,402 - httpx - INFO - HTTP Request: POST https://api.telegram.org/bot7696980218:AAH9hdrW5tuhJqHEedo6xqa8mefddKaG7AE/deleteWebhook \"HTTP/1.1 200 OK\"\n",
      "2025-03-25 22:57:12,403 - telegram.ext.Application - INFO - Application started\n",
      "2025-03-25 22:57:18,447 - httpx - INFO - HTTP Request: POST https://api.telegram.org/bot7696980218:AAH9hdrW5tuhJqHEedo6xqa8mefddKaG7AE/getUpdates \"HTTP/1.1 200 OK\"\n",
      "2025-03-25 22:57:48,214 - httpx - INFO - HTTP Request: POST http://127.0.0.1:11434/api/chat \"HTTP/1.1 200 OK\"\n",
      "2025-03-25 22:57:48,587 - httpx - INFO - HTTP Request: POST https://api.telegram.org/bot7696980218:AAH9hdrW5tuhJqHEedo6xqa8mefddKaG7AE/sendMessage \"HTTP/1.1 200 OK\"\n",
      "2025-03-25 22:57:58,407 - httpx - INFO - HTTP Request: POST https://api.telegram.org/bot7696980218:AAH9hdrW5tuhJqHEedo6xqa8mefddKaG7AE/getUpdates \"HTTP/1.1 200 OK\"\n",
      "2025-03-25 22:58:08,475 - httpx - INFO - HTTP Request: POST https://api.telegram.org/bot7696980218:AAH9hdrW5tuhJqHEedo6xqa8mefddKaG7AE/getUpdates \"HTTP/1.1 200 OK\"\n",
      "2025-03-25 22:58:18,541 - httpx - INFO - HTTP Request: POST https://api.telegram.org/bot7696980218:AAH9hdrW5tuhJqHEedo6xqa8mefddKaG7AE/getUpdates \"HTTP/1.1 200 OK\"\n"
     ]
    }
   ],
   "source": [
    "import logging\n",
    "import os\n",
    "from dotenv import load_dotenv\n",
    "from telegram import Update\n",
    "from telegram.ext import ApplicationBuilder, CommandHandler, MessageHandler, filters\n",
    "import ollama\n",
    "import nest_asyncio\n",
    "\n",
    "nest_asyncio.apply()\n",
    "\n",
    "# Включаем ведение журнала\n",
    "logging.basicConfig(format='%(asctime)s - %(name)s - %(levelname)s - %(message)s', level=logging.INFO)\n",
    "\n",
    "# Токен, который вы получили от @BotFather\n",
    "load_dotenv()\n",
    "TOKEN = os.environ.get('BOT_TOKEN')\n",
    "\n",
    "# Словарь для хранения данных пользователей\n",
    "user_ids = {}\n",
    "context_memory = {}\n",
    "\n",
    "# Функция для обработки команды /start\n",
    "async def start(update: Update, context) -> None:\n",
    "    await update.message.reply_text('Привет! Я чат-бот. Чем могу помочь?')\n",
    "\n",
    "# Функция для обработки обычных сообщений\n",
    "async def handle_message(update: Update, context):\n",
    "    user_id = update.effective_user.id\n",
    "    if user_id not in user_ids:\n",
    "        user_ids[user_id] = {'last_message': None, 'preferences': {}}\n",
    "        context_memory[user_id] = []\n",
    "\n",
    "    message_text = update.message.text\n",
    "    context_messages = context_memory[user_id]\n",
    "\n",
    "    # Добавляем новое сообщение в контекст\n",
    "    context_messages.append({'role': 'user', 'content': message_text})\n",
    "\n",
    "    # Ограничиваем историю контекста последними 8 сообщениями\n",
    "    context_memory[user_id] = context_messages[-8:]\n",
    "\n",
    "    try:\n",
    "        # Call the ollama.chat function with the context messages\n",
    "        response = ollama.chat(model='deepseek-r1:8b', messages=context_memory[user_id])\n",
    "        # Отправляем ответ пользователю\n",
    "        await update.message.reply_text(response['message']['content'].split(\"</think>\")[-1].strip())\n",
    "    except Exception as e:\n",
    "        logging.error(f\"Error while getting response from ollama: {e}\")\n",
    "        await update.message.reply_text('Произошла ошибка, попробуйте позже.')\n",
    "\n",
    "# Основная функция\n",
    "async def main() -> None:\n",
    "    application = ApplicationBuilder().token(TOKEN).build()\n",
    "\n",
    "    application.add_handler(CommandHandler('start', start))\n",
    "    application.add_handler(MessageHandler(filters.TEXT & ~filters.COMMAND, handle_message))\n",
    "\n",
    "    await application.run_polling()\n",
    "\n",
    "if __name__ == '__main__':\n",
    "    import asyncio\n",
    "    asyncio.run(main())"
   ]
  },
  {
   "cell_type": "code",
   "execution_count": null,
   "id": "82582d68-f8e7-4fd2-a2e4-edddb63d045d",
   "metadata": {},
   "outputs": [],
   "source": []
  },
  {
   "cell_type": "code",
   "execution_count": null,
   "id": "af37f0c8-ecd7-4644-acfe-2af62fe1a6b7",
   "metadata": {},
   "outputs": [],
   "source": []
  }
 ],
 "metadata": {
  "kernelspec": {
   "display_name": "Python 3 (ipykernel)",
   "language": "python",
   "name": "python3"
  },
  "language_info": {
   "codemirror_mode": {
    "name": "ipython",
    "version": 3
   },
   "file_extension": ".py",
   "mimetype": "text/x-python",
   "name": "python",
   "nbconvert_exporter": "python",
   "pygments_lexer": "ipython3",
   "version": "3.11.11"
  }
 },
 "nbformat": 4,
 "nbformat_minor": 5
}
