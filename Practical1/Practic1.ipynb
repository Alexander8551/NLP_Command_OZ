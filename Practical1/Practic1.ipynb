{
 "cells": [
  {
   "cell_type": "markdown",
   "id": "fed881b3-6359-46f0-bc64-4f0c4aedcbf6",
   "metadata": {},
   "source": [
    " ### Установка deeppavlov"
   ]
  },
  {
   "cell_type": "code",
   "execution_count": 5,
   "id": "ae0e02c7-02e5-428f-b633-83cfbca54046",
   "metadata": {},
   "outputs": [
    {
     "name": "stdout",
     "output_type": "stream",
     "text": [
      "Requirement already satisfied: deeppavlov in c:\\users\\computer\\anaconda3\\envs\\ml6\\lib\\site-packages (1.7.0)\n",
      "Requirement already satisfied: fastapi<=0.89.1,>=0.47.0 in c:\\users\\computer\\anaconda3\\envs\\ml6\\lib\\site-packages (from deeppavlov) (0.89.1)\n",
      "Requirement already satisfied: filelock<3.10.0,>=3.0.0 in c:\\users\\computer\\anaconda3\\envs\\ml6\\lib\\site-packages (from deeppavlov) (3.9.1)\n",
      "Requirement already satisfied: nltk<3.10.0,>=3.2.4 in c:\\users\\computer\\anaconda3\\envs\\ml6\\lib\\site-packages (from deeppavlov) (3.9.1)\n",
      "Requirement already satisfied: numpy<1.24 in c:\\users\\computer\\anaconda3\\envs\\ml6\\lib\\site-packages (from deeppavlov) (1.23.5)\n",
      "Requirement already satisfied: pandas<1.6.0,>=1.0.0 in c:\\users\\computer\\anaconda3\\envs\\ml6\\lib\\site-packages (from deeppavlov) (1.5.3)\n",
      "Requirement already satisfied: prometheus-client<=1.16.0,>=0.13.0 in c:\\users\\computer\\anaconda3\\envs\\ml6\\lib\\site-packages (from deeppavlov) (0.21.0)\n",
      "Requirement already satisfied: pydantic<2 in c:\\users\\computer\\anaconda3\\envs\\ml6\\lib\\site-packages (from deeppavlov) (1.10.20)\n",
      "Requirement already satisfied: pybind11==2.10.3 in c:\\users\\computer\\anaconda3\\envs\\ml6\\lib\\site-packages (from deeppavlov) (2.10.3)\n",
      "Requirement already satisfied: requests<3.0.0,>=2.19.0 in c:\\users\\computer\\anaconda3\\envs\\ml6\\lib\\site-packages (from deeppavlov) (2.32.3)\n",
      "Requirement already satisfied: tqdm<4.65.0,>=4.42.0 in c:\\users\\computer\\anaconda3\\envs\\ml6\\lib\\site-packages (from deeppavlov) (4.64.1)\n",
      "Requirement already satisfied: uvicorn<0.19.0,>=0.13.0 in c:\\users\\computer\\anaconda3\\envs\\ml6\\lib\\site-packages (from deeppavlov) (0.18.3)\n",
      "Requirement already satisfied: wheel in c:\\users\\computer\\anaconda3\\envs\\ml6\\lib\\site-packages (from deeppavlov) (0.44.0)\n",
      "Requirement already satisfied: scikit-learn<1.1.0,>=0.24 in c:\\users\\computer\\anaconda3\\envs\\ml6\\lib\\site-packages (from deeppavlov) (1.0.2)\n",
      "Requirement already satisfied: scipy==1.10.0 in c:\\users\\computer\\anaconda3\\envs\\ml6\\lib\\site-packages (from deeppavlov) (1.10.0)\n",
      "Requirement already satisfied: starlette==0.22.0 in c:\\users\\computer\\anaconda3\\envs\\ml6\\lib\\site-packages (from fastapi<=0.89.1,>=0.47.0->deeppavlov) (0.22.0)\n",
      "Requirement already satisfied: anyio<5,>=3.4.0 in c:\\users\\computer\\anaconda3\\envs\\ml6\\lib\\site-packages (from starlette==0.22.0->fastapi<=0.89.1,>=0.47.0->deeppavlov) (4.6.2)\n",
      "Requirement already satisfied: click in c:\\users\\computer\\anaconda3\\envs\\ml6\\lib\\site-packages (from nltk<3.10.0,>=3.2.4->deeppavlov) (8.1.8)\n",
      "Requirement already satisfied: joblib in c:\\users\\computer\\anaconda3\\envs\\ml6\\lib\\site-packages (from nltk<3.10.0,>=3.2.4->deeppavlov) (1.4.2)\n",
      "Requirement already satisfied: regex>=2021.8.3 in c:\\users\\computer\\anaconda3\\envs\\ml6\\lib\\site-packages (from nltk<3.10.0,>=3.2.4->deeppavlov) (2024.11.6)\n",
      "Requirement already satisfied: python-dateutil>=2.8.1 in c:\\users\\computer\\anaconda3\\envs\\ml6\\lib\\site-packages (from pandas<1.6.0,>=1.0.0->deeppavlov) (2.9.0.post0)\n",
      "Requirement already satisfied: pytz>=2020.1 in c:\\users\\computer\\anaconda3\\envs\\ml6\\lib\\site-packages (from pandas<1.6.0,>=1.0.0->deeppavlov) (2024.1)\n",
      "Requirement already satisfied: typing-extensions>=4.2.0 in c:\\users\\computer\\anaconda3\\envs\\ml6\\lib\\site-packages (from pydantic<2->deeppavlov) (4.12.2)\n",
      "Requirement already satisfied: charset-normalizer<4,>=2 in c:\\users\\computer\\anaconda3\\envs\\ml6\\lib\\site-packages (from requests<3.0.0,>=2.19.0->deeppavlov) (3.3.2)\n",
      "Requirement already satisfied: idna<4,>=2.5 in c:\\users\\computer\\anaconda3\\envs\\ml6\\lib\\site-packages (from requests<3.0.0,>=2.19.0->deeppavlov) (3.7)\n",
      "Requirement already satisfied: urllib3<3,>=1.21.1 in c:\\users\\computer\\anaconda3\\envs\\ml6\\lib\\site-packages (from requests<3.0.0,>=2.19.0->deeppavlov) (2.2.3)\n",
      "Requirement already satisfied: certifi>=2017.4.17 in c:\\users\\computer\\anaconda3\\envs\\ml6\\lib\\site-packages (from requests<3.0.0,>=2.19.0->deeppavlov) (2024.12.14)\n",
      "Requirement already satisfied: threadpoolctl>=2.0.0 in c:\\users\\computer\\anaconda3\\envs\\ml6\\lib\\site-packages (from scikit-learn<1.1.0,>=0.24->deeppavlov) (3.5.0)\n",
      "Requirement already satisfied: colorama in c:\\users\\computer\\anaconda3\\envs\\ml6\\lib\\site-packages (from tqdm<4.65.0,>=4.42.0->deeppavlov) (0.4.6)\n",
      "Requirement already satisfied: h11>=0.8 in c:\\users\\computer\\anaconda3\\envs\\ml6\\lib\\site-packages (from uvicorn<0.19.0,>=0.13.0->deeppavlov) (0.14.0)\n",
      "Requirement already satisfied: six>=1.5 in c:\\users\\computer\\anaconda3\\envs\\ml6\\lib\\site-packages (from python-dateutil>=2.8.1->pandas<1.6.0,>=1.0.0->deeppavlov) (1.16.0)\n",
      "Requirement already satisfied: sniffio>=1.1 in c:\\users\\computer\\anaconda3\\envs\\ml6\\lib\\site-packages (from anyio<5,>=3.4.0->starlette==0.22.0->fastapi<=0.89.1,>=0.47.0->deeppavlov) (1.3.0)\n",
      "Requirement already satisfied: exceptiongroup>=1.0.2 in c:\\users\\computer\\anaconda3\\envs\\ml6\\lib\\site-packages (from anyio<5,>=3.4.0->starlette==0.22.0->fastapi<=0.89.1,>=0.47.0->deeppavlov) (1.2.0)\n",
      "Note: you may need to restart the kernel to use updated packages.\n"
     ]
    }
   ],
   "source": [
    "pip install deeppavlov"
   ]
  },
  {
   "cell_type": "markdown",
   "id": "8400be02-4d77-4662-ba2d-c74502fdd92c",
   "metadata": {},
   "source": [
    "### Создание модели Text Question Answering"
   ]
  },
  {
   "cell_type": "code",
   "execution_count": 8,
   "id": "bcfc4a6b-2d0c-4665-ac61-4c012a0199da",
   "metadata": {
    "scrolled": true
   },
   "outputs": [
    {
     "name": "stderr",
     "output_type": "stream",
     "text": [
      "2025-01-09 21:02:36.409 INFO in 'deeppavlov.download'['download'] at line 138: Skipped http://files.deeppavlov.ai/v1/squad/squad_torch_bert_cased.tar.gz download because of matching hashes\n",
      "Some weights of the model checkpoint at bert-base-cased were not used when initializing BertForQuestionAnswering: ['cls.predictions.transform.dense.bias', 'cls.predictions.transform.LayerNorm.bias', 'cls.seq_relationship.bias', 'cls.predictions.transform.LayerNorm.weight', 'cls.predictions.bias', 'cls.predictions.transform.dense.weight', 'cls.seq_relationship.weight']\n",
      "- This IS expected if you are initializing BertForQuestionAnswering from the checkpoint of a model trained on another task or with another architecture (e.g. initializing a BertForSequenceClassification model from a BertForPreTraining model).\n",
      "- This IS NOT expected if you are initializing BertForQuestionAnswering from the checkpoint of a model that you expect to be exactly identical (initializing a BertForSequenceClassification model from a BertForSequenceClassification model).\n",
      "Some weights of BertForQuestionAnswering were not initialized from the model checkpoint at bert-base-cased and are newly initialized: ['qa_outputs.weight', 'qa_outputs.bias']\n",
      "You should probably TRAIN this model on a down-stream task to be able to use it for predictions and inference.\n",
      "2025-01-09 21:02:37.456 WARNING in 'deeppavlov.core.models.torch_model'['torch_model'] at line 96: Unable to place component TorchTransformersSquad on GPU, since no CUDA GPUs are available. Using CPU.\n"
     ]
    },
    {
     "name": "stdout",
     "output_type": "stream",
     "text": [
      "['a library for NLP and dialog systems', 'All work and no play']\n"
     ]
    }
   ],
   "source": [
    "# Импортируем build_model из библиотеки deeppavlov\n",
    "from deeppavlov import build_model\n",
    "\n",
    "# Создаем модель\n",
    "model = build_model('squad_bert', download=True, install=True)\n",
    "# Добавляем список ответов на вопросы\n",
    "contexts = ['DeepPavlov is a library for NLP and dialog systems.', 'All work and no play makes Jack a dull boy']\n",
    "# Добавляем список с вопросами\n",
    "questions = ['What is DeepPavlov?', 'What makes Jack a dull boy?']\n",
    "# Получаем ответы\n",
    "answer, answers_start_idx, score = model(contexts, questions)\n",
    "print(answer)"
   ]
  },
  {
   "cell_type": "code",
   "execution_count": null,
   "id": "80ba59d1-e5bc-499c-8786-fd394576e146",
   "metadata": {},
   "outputs": [],
   "source": []
  }
 ],
 "metadata": {
  "kernelspec": {
   "display_name": "Python 3 (ipykernel)",
   "language": "python",
   "name": "python3"
  },
  "language_info": {
   "codemirror_mode": {
    "name": "ipython",
    "version": 3
   },
   "file_extension": ".py",
   "mimetype": "text/x-python",
   "name": "python",
   "nbconvert_exporter": "python",
   "pygments_lexer": "ipython3",
   "version": "3.10.16"
  }
 },
 "nbformat": 4,
 "nbformat_minor": 5
}
