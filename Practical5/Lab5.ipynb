{
 "cells": [
  {
   "cell_type": "markdown",
   "id": "1e2d93ea-54ef-4f28-a229-308ab0f69815",
   "metadata": {},
   "source": [
    "## Цель работы:\n",
    "Обучить нейронные сети на корпусе текстов определенного человека, научиться генерировать текст в стиле определенного человека"
   ]
  },
  {
   "cell_type": "markdown",
   "id": "3fcf1da8-2a14-4f95-8938-b74db92b7d1e",
   "metadata": {},
   "source": [
    "## Установка требуемых пакетов"
   ]
  },
  {
   "cell_type": "code",
   "execution_count": 1,
   "id": "26333eba-bdd7-4fc2-82a1-99f9001a97c2",
   "metadata": {},
   "outputs": [
    {
     "data": {
      "text/plain": [
       "'\\n# Используется Python 3.11\\n%pip install ipywidgets python-dotenv ollama tensorboard\\n# Используем колесо для cuda 12.6 (версия cuda, GPU и драйвера GPU должны быть совместимы между собой)\\n%pip install --upgrade pip && pip install xformers --index-url https://download.pytorch.org/whl/cu126\\n# вместе с xformers установился torch, чтобы узнать его версию и сгенерировать правильную команду для установки unsloth можно воспользоваться комнадой:\\n#!wget -qO- https://raw.githubusercontent.com/unslothai/unsloth/main/unsloth/_auto_install.py | python -\\n# выполнив предыдущую команду, мы получили команду для установки unsloth:\\n%pip install \"unsloth[cu126-ampere-torch260] @ git+https://github.com/unslothai/unsloth.git\"\\n# flash-attn компилируется крайне долго, устанавливать желательно через консоль\\n%pip install --no-build-isolation flash-attn\\n'"
      ]
     },
     "execution_count": 1,
     "metadata": {},
     "output_type": "execute_result"
    }
   ],
   "source": [
    "'''\n",
    "# Используется Python 3.11\n",
    "%pip install ipywidgets python-dotenv ollama tensorboard\n",
    "# Используем колесо для cuda 12.6 (версия cuda, GPU и драйвера GPU должны быть совместимы между собой)\n",
    "%pip install --upgrade pip && pip install xformers --index-url https://download.pytorch.org/whl/cu126\n",
    "# вместе с xformers установился torch, чтобы узнать его версию и сгенерировать правильную команду для установки unsloth можно воспользоваться комнадой:\n",
    "#!wget -qO- https://raw.githubusercontent.com/unslothai/unsloth/main/unsloth/_auto_install.py | python -\n",
    "# выполнив предыдущую команду, мы получили команду для установки unsloth:\n",
    "%pip install \"unsloth[cu126-ampere-torch260] @ git+https://github.com/unslothai/unsloth.git\"\n",
    "# flash-attn компилируется крайне долго, устанавливать желательно через консоль\n",
    "%pip install --no-build-isolation flash-attn\n",
    "'''"
   ]
  },
  {
   "cell_type": "markdown",
   "id": "b4a76fb8-80c2-4646-88dd-4503b5f49eee",
   "metadata": {},
   "source": [
    "## Генерация Prompt на основе данных датасета с помощью Ollama"
   ]
  },
  {
   "cell_type": "code",
   "execution_count": 2,
   "id": "9ebc86bf-8480-422e-9fd6-0e378194e138",
   "metadata": {},
   "outputs": [
    {
     "name": "stdout",
     "output_type": "stream",
     "text": [
      "Генерация завершена и данные сохранены.\n"
     ]
    }
   ],
   "source": [
    "import pandas as pd\n",
    "import ollama\n",
    "import os\n",
    "import subprocess\n",
    "from datetime import datetime\n",
    "\n",
    "# Пути к файлам\n",
    "input_file = \"datasets/Lebedev_messages_5436.csv\"\n",
    "output_file = f\"{input_file[:-4]}_with_prompt.csv\"\n",
    "ollama_used = False\n",
    "\n",
    "# Функция для генерации промпта\n",
    "def generate_prompt(message):\n",
    "    global ollama_used\n",
    "    ollama_used = True\n",
    "    prompt_style = \"\"\"Вы ведете контент-план блогера, писателя, у которого свой стиль письма. \n",
    "    Пожалуйста, составьте краткое задание на русском языке в простой форме для написания следующего текста. Представим, что этого текста еще не существует и блоггер должен его написать.\n",
    "    Задание не должно содержать форматирование или примеры. \n",
    "    \n",
    "    ### Текст для задания:\n",
    "    {}\"\"\"\n",
    "    response = ollama.generate(model=\"deepseek-r1:8b\", prompt=prompt_style.format(message))[\"response\"]\n",
    "    # убираем лишнюю информацию из ответа модели\n",
    "    response = response.split(\"</think>\")[-1].strip()\n",
    "    return response\n",
    "\n",
    "# Загружаем уже обработанные данные, если файл существует\n",
    "processed_df = pd.read_csv(output_file) if os.path.exists(output_file) else pd.DataFrame()\n",
    "processed_count = len(processed_df)\n",
    "\n",
    "# Загружаем исходный датасет и определяем необработанные строки\n",
    "df = pd.read_csv(input_file)\n",
    "remaining_df = df[processed_count:]\n",
    "\n",
    "# Обработка данных чанками\n",
    "chunk_size = 50\n",
    "for start in range(0, len(remaining_df), chunk_size):\n",
    "    chunk = remaining_df[start:start + chunk_size].copy()\n",
    "    chunk[\"Prompt\"] = chunk[\"Message\"].apply(generate_prompt)\n",
    "\n",
    "    # Сохраняем результаты (дописываем или создаем файл)\n",
    "    chunk.to_csv(output_file, mode=\"a\", header=not os.path.exists(output_file), index=False)\n",
    "    current_time = datetime.now().strftime(\"%Y-%m-%d %H:%M:%S\")\n",
    "    print(f\"[{current_time}] Обработано строк: {processed_count + start + len(chunk)}\")\n",
    "\n",
    "print(\"Генерация завершена и данные сохранены.\")\n",
    "# выгружаем Ollama\n",
    "if ollama_used:\n",
    "    subprocess.Popen([\"ollama\", \"stop\", \"deepseek-r1:8b\"])"
   ]
  },
  {
   "cell_type": "code",
   "execution_count": 3,
   "id": "16a3642f-7bc8-4464-9a16-dd5d4e1611d5",
   "metadata": {},
   "outputs": [
    {
     "name": "stdout",
     "output_type": "stream",
     "text": [
      "🦥 Unsloth: Will patch your computer to enable 2x faster free finetuning.\n",
      "🦥 Unsloth Zoo will now patch everything to make training faster!\n"
     ]
    }
   ],
   "source": [
    "import torch\n",
    "import gc\n",
    "import time\n",
    "if not torch.cuda.is_available():\n",
    "    raise NotImplementedError(\"NVIDIA GPU not found!\") # unsloth работает только с GPU. Дальнейшее выполнее кода не имеет смысла.\n",
    "from unsloth import FastLanguageModel\n",
    "max_seq_length = 2048 \n",
    "dtype = torch.bfloat16 \n",
    "load_in_4bit = True"
   ]
  },
  {
   "cell_type": "code",
   "execution_count": 4,
   "id": "03d16e26-b80f-4ae9-bd4f-70fe9c80e8ce",
   "metadata": {},
   "outputs": [],
   "source": [
    "# Функция для очистки видеопамяти (VRAM)\n",
    "def clear_vram():\n",
    "    print(\"Очистка VRAM...\")\n",
    "    try:\n",
    "        # Сборка мусора\n",
    "        gc.collect()\n",
    "        # Очистка кэша CUDA\n",
    "        torch.cuda.empty_cache()\n",
    "        # Сборка межпроцессорной памяти CUDA\n",
    "        torch.cuda.ipc_collect()\n",
    "        print(\"VRAM успешно очищена.\")\n",
    "    except Exception as e:\n",
    "        print(f\"Не удалось очистить VRAM: {e}\")\n",
    "\n",
    "# Функция для вывода статистики VRAM\n",
    "def display_vram_stats(stage=\"before\", start_gpu_memory=0):\n",
    "    gpu_stats = torch.cuda.get_device_properties(0)\n",
    "    current_gpu_memory = round(torch.cuda.max_memory_reserved() / 1024 / 1024 / 1024, 3)\n",
    "    max_memory = round(gpu_stats.total_memory / 1024 / 1024 / 1024, 3)\n",
    "    if stage == \"before\":\n",
    "        print(f\"GPU = {gpu_stats.name}.\\nИспользуется {current_gpu_memory} GB из {max_memory} GB vRAM.\")\n",
    "        return current_gpu_memory\n",
    "    elif stage == \"after\":\n",
    "        used_memory_for_lora = round(current_gpu_memory - start_gpu_memory, 3)\n",
    "        used_percentage = round(current_gpu_memory / max_memory * 100, 3)\n",
    "        lora_percentage = round(used_memory_for_lora / max_memory * 100, 3)\n",
    "        print(f\"Обучение длилось {trainer_stats.metrics['train_runtime']} секунд ({round(trainer_stats.metrics['train_runtime']/60, 2)} минут).\")\n",
    "        print(f\"Максимально использовалось vRAM = {current_gpu_memory} ГБ.\")\n",
    "        print(f\"Максимально использовалось vRAM для обучения = {used_memory_for_lora} ГБ.\")\n",
    "        print(f\"Максимально использовалось vRAM в % от общей памяти = {used_percentage} %.\")\n",
    "        print(f\"Максимально использовалось vRAM для обучения в % от общей памяти = {lora_percentage} %.\")"
   ]
  },
  {
   "cell_type": "code",
   "execution_count": 5,
   "id": "4a78d51e-e7c1-40dc-b0d5-de4632c59b36",
   "metadata": {},
   "outputs": [
    {
     "name": "stderr",
     "output_type": "stream",
     "text": [
      "Note: Environment variable`HF_TOKEN` is set and is the current active token independently from the token you've just configured.\n"
     ]
    }
   ],
   "source": [
    "# Получаем токен Hugging Face и авторизуемся\n",
    "from huggingface_hub import login\n",
    "from dotenv import load_dotenv\n",
    "load_dotenv()\n",
    "hf_token = os.environ.get('HF_TOKEN')\n",
    "login(hf_token)"
   ]
  },
  {
   "cell_type": "markdown",
   "id": "5ed9654a-2aee-482b-b5e7-31cfd82eaf1e",
   "metadata": {},
   "source": [
    "# DeepSeek R1\n",
    "## Тестируем модель DeepSeek R1 до обучения"
   ]
  },
  {
   "cell_type": "code",
   "execution_count": 6,
   "id": "af8f5119-002b-431c-a5fc-ed5a8acb0388",
   "metadata": {},
   "outputs": [
    {
     "name": "stderr",
     "output_type": "stream",
     "text": [
      "F:\\anaconda3\\envs\\unsloth\\Lib\\site-packages\\unsloth_zoo\\gradient_checkpointing.py:330: UserWarning: expandable_segments not supported on this platform (Triggered internally at C:\\actions-runner\\_work\\pytorch\\pytorch\\pytorch\\c10/cuda/CUDAAllocatorConfig.h:28.)\n",
      "  GPU_BUFFERS = tuple([torch.empty(2*256*2048, dtype = dtype, device = f\"cuda:{i}\") for i in range(n_gpus)])\n"
     ]
    },
    {
     "name": "stdout",
     "output_type": "stream",
     "text": [
      "==((====))==  Unsloth 2025.3.19: Fast Llama patching. Transformers: 4.50.0.\n",
      "   \\\\   /|    NVIDIA GeForce RTX 4070 Ti SUPER. Num GPUs = 1. Max memory: 15.992 GB. Platform: Windows.\n",
      "O^O/ \\_/ \\    Torch: 2.6.0+cu126. CUDA: 8.9. CUDA Toolkit: 12.6. Triton: 3.2.0\n",
      "\\        /    Bfloat16 = TRUE. FA [Xformers = 0.0.29.post3. FA2 = True]\n",
      " \"-____-\"     Free license: http://github.com/unslothai/unsloth\n",
      "Unsloth: Fast downloading is enabled - ignore downloading bars which are red colored!\n"
     ]
    }
   ],
   "source": [
    "# Загрузка модели\n",
    "model, tokenizer = FastLanguageModel.from_pretrained(\n",
    "    model_name = \"unsloth/DeepSeek-R1-Distill-Llama-8B-unsloth-bnb-4bit\",\n",
    "    max_seq_length = max_seq_length,\n",
    "    dtype = dtype,\n",
    "    load_in_4bit = load_in_4bit,\n",
    "    token = hf_token, \n",
    ")"
   ]
  },
  {
   "cell_type": "code",
   "execution_count": 7,
   "id": "7585baf7-9e02-4e45-a52c-090bb5bb2dce",
   "metadata": {},
   "outputs": [],
   "source": [
    "prompt_style = \"\"\"Below is an instruction that describes a task, paired with an input that provides further context. \n",
    "Write a response that appropriately completes the request. \n",
    "Before answering, think carefully about the question and create a step-by-step chain of thoughts to ensure a logical and accurate response.\n",
    "\n",
    "### Instruction:\n",
    "Вы являетесь писателем книг и текстовым блоггером живого журнала, со своим уникальным стилем написания текстов. \n",
    "Пожалуйста, напишите текст на русском языке по следующему заданию.\n",
    "\n",
    "### Question:\n",
    "{}\n",
    "\n",
    "### Response:\n",
    "<think>{}\"\"\""
   ]
  },
  {
   "cell_type": "code",
   "execution_count": 8,
   "id": "12b72d3b-3af9-40aa-b733-05e767d6eb2f",
   "metadata": {},
   "outputs": [
    {
     "name": "stdout",
     "output_type": "stream",
     "text": [
      "\n",
      "\n",
      "Электрочистилки для обуви — это современный и удобный инструмент для тех, кто ценит卫生 и порядок. Однако, как и任何 другой технический устройство, они имеют свои преимущества и недостатки. Вот несколько ключевых аспектов, которые можно рассмотреть при оценке электрочистилок:\n",
      "\n",
      "### 1. Эффективность\n",
      "Электрочистилки для обуви используют различные материалы для удаления пыли и загрязнения. Часть моделей оснащены металлическими刷ками, которые эффективно抓гают частицы грязи и шероховатостей. Другие модели могут использовать абразивные наконец, которые помогают удалить глубокие углубления. Выбирайте модели, которые соответствуют вашему типу обуви и частоте использования.\n",
      "\n",
      "### 2. Безопасность\n",
      "Электрочистилки подключаются к источнику тока, что делает их использование более эффективным, но и более безопасным. Убедитесь, что устройство соответствует стандартам безопасности, имеет защитные устройства против короткого замыкания и перегрузки. Также проверьте, есть ли автоматическая выключка при достижении критических параметров.\n",
      "\n",
      "### 3. Долговечность\n",
      "Качество материалов используемых в электрочистилках важно для их долговечности. Металлические части должны быть прочными, а электрические контакты — надежными. Выбирайте модели, которые имеют гарантию качества и долговечность, чтобы избежать проблем с износом или неисправностями в будущем.\n",
      "\n",
      "### 4. Стоимость\n",
      "Электрочистилки для обуви предлагаются на различных ценовых уровнях. Выбирайте модель, которая соответствует вашему бюджету и потребностям. Некоторые модели могут предложить дополнительные функции, такие как разносячение или автоматическая смена направления, что делает их более удобными, но и более дорогими.\n",
      "\n",
      "### 5. Дополнительные функции\n",
      "Современные электрочистилки часто оборудованы разносячением, что позволяет использовать их для разных типов обуви. Некоторые модели можно подключать к источнику тока через USB, что удобно для использования в разных помещениях. Эти дополнительные функции могут быть полезны, но их стоимость может быть включена в цену основной модели.\n",
      "\n",
      "### Рекомендации по выбору\n",
      "Для выбора подходящей модели электрочистилки для обуви важно учитывать следующие факторы:\n",
      "- Частоту использования: если вы используете обувь часто, выбирайте модели с более长ой гарантией и более мощными функциями.\n",
      "- Размер обуви: небольшие модели лучше подходят для детских сапок, а крупные — для взрослой обуви.\n",
      "- Личные предпочтения: если вы цените стиль или дизайн, выбирайте модели, которые соответствуют вашему интерьору.\n",
      "\n",
      "Электрочистилки для обуви — это полезный инструмент, который может значительно упростить вашу жизнь, если выбраны правильно. Убедитесь, что вы учитывает все свои потребности и предпочтения при выборе модели, чтобы использовать это устройство максимально эффективно и безопасно.<｜end▁of▁sentence｜>\n"
     ]
    }
   ],
   "source": [
    "question = \"\"\"Написать текст, критически оценивающий электрочистилки для обуви.\"\"\"\n",
    "\n",
    "FastLanguageModel.for_inference(model)  # Unsloth has 2x faster inference!\n",
    "inputs = tokenizer([prompt_style.format(question, \"\")], return_tensors=\"pt\").to(\"cuda\")\n",
    "\n",
    "outputs = model.generate(\n",
    "    input_ids=inputs.input_ids,\n",
    "    attention_mask=inputs.attention_mask,\n",
    "    max_new_tokens=1200,\n",
    ")\n",
    "response = tokenizer.batch_decode(outputs)\n",
    "print(response[0].split(\"</think>\")[1])"
   ]
  },
  {
   "cell_type": "markdown",
   "id": "9adbda2f-1193-4064-8b61-09d3b1526b51",
   "metadata": {},
   "source": [
    "## Обучаем DeepSeek R1"
   ]
  },
  {
   "cell_type": "code",
   "execution_count": 9,
   "id": "7b75ee52-58fa-4a7b-871f-8c46ee7aad41",
   "metadata": {},
   "outputs": [
    {
     "name": "stderr",
     "output_type": "stream",
     "text": [
      "Unsloth 2025.3.19 patched 32 layers with 32 QKV layers, 32 O layers and 32 MLP layers.\n"
     ]
    }
   ],
   "source": [
    "# Настройка модели для обучения с использованием LoRA\n",
    "model = FastLanguageModel.get_peft_model(\n",
    "    model,\n",
    "    r=16,  \n",
    "    target_modules=[\n",
    "        \"q_proj\",\n",
    "        \"k_proj\",\n",
    "        \"v_proj\",\n",
    "        \"o_proj\",\n",
    "        \"gate_proj\",\n",
    "        \"up_proj\",\n",
    "        \"down_proj\",\n",
    "    ],\n",
    "    lora_alpha=16,\n",
    "    lora_dropout=0,  \n",
    "    bias=\"none\",  \n",
    "    use_gradient_checkpointing=\"unsloth\",  # True or \"unsloth\" for very long context\n",
    "    random_state=3407,\n",
    "    use_rslora=False,  \n",
    "    loftq_config=None,\n",
    ")"
   ]
  },
  {
   "cell_type": "code",
   "execution_count": 10,
   "id": "e3455f87-01f1-4f4e-b65a-2611be35df9f",
   "metadata": {},
   "outputs": [
    {
     "data": {
      "text/plain": [
       "<Popen: returncode: None args: ['tensorboard', '--logdir', 'outputs']>"
      ]
     },
     "execution_count": 10,
     "metadata": {},
     "output_type": "execute_result"
    }
   ],
   "source": [
    "# Запуск сервиса TensorBoard\n",
    "subprocess.Popen([\"tensorboard\", \"--logdir\", \"outputs\"])"
   ]
  },
  {
   "cell_type": "code",
   "execution_count": 11,
   "id": "86e21ddd-1769-4f85-b008-55c40d6e21e5",
   "metadata": {},
   "outputs": [],
   "source": [
    "alpaca_prompt = \"\"\"Below is an instruction that describes a task, paired with an input that provides further context. \n",
    "Write a response that appropriately completes the request. \n",
    "Before answering, think carefully about the question and create a step-by-step chain of thoughts to ensure a logical and accurate response.\n",
    "\n",
    "### Instruction:\n",
    "{}\n",
    "\n",
    "### Question:\n",
    "{}\n",
    "\n",
    "### Response:\n",
    "<think>\n",
    "\n",
    "</think>\n",
    "{}\"\"\"\n",
    "EOS_TOKEN = tokenizer.eos_token  # Must add EOS_TOKEN\n",
    "\n",
    "def formatting_prompts_func(examples):\n",
    "    instruction = \"Вы являетесь писателем книг и текстовым блоггером живого журнала, со своим уникальным стилем написания текстов. Пожалуйста, напишите текст на русском языке по следующему заданию.\"\n",
    "    inputs       = examples[\"Prompt\"]\n",
    "    outputs      = examples[\"Message\"]\n",
    "    texts = []\n",
    "    for input, output in zip(inputs, outputs):\n",
    "        text = alpaca_prompt.format(instruction, input, output) + EOS_TOKEN\n",
    "        texts.append(text)\n",
    "    return { \"text\" : texts, }\n",
    "pass"
   ]
  },
  {
   "cell_type": "code",
   "execution_count": 12,
   "id": "513e7f1f-3693-4e97-b661-078595128886",
   "metadata": {},
   "outputs": [
    {
     "data": {
      "application/vnd.jupyter.widget-view+json": {
       "model_id": "d67c03819bea4dc787e4004a47b7201b",
       "version_major": 2,
       "version_minor": 0
      },
      "text/plain": [
       "Map:   0%|          | 0/5436 [00:00<?, ? examples/s]"
      ]
     },
     "metadata": {},
     "output_type": "display_data"
    },
    {
     "data": {
      "text/plain": [
       "'Below is an instruction that describes a task, paired with an input that provides further context. \\nWrite a response that appropriately completes the request. \\nBefore answering, think carefully about the question and create a step-by-step chain of thoughts to ensure a logical and accurate response.\\n\\n### Instruction:\\nВы являетесь писателем книг и текстовым блоггером живого журнала, со своим уникальным стилем написания текстов. Пожалуйста, напишите текст на русском языке по следующему заданию.\\n\\n### Question:\\nНапишите текст, объясняющий разницу между терминами \"загрузка\" и \"скачивание\" в контексте работы с данными на русском языке.\\n\\n### Response:\\n<think>\\n\\n</think>\\nЗагрузка и скачивание\\nЛюбопытно, что в русском языке процесс передачи данных наружу (на сервер или в память) называется \"загрузка\", а процесс получение данных извне - \"скачивание\".\\nПрекрасный пример: \"Скачать программы из категории Загрузка\".\\nТо есть, наружу мы грузим, совершаем действие с чем-то твердым. А к себе мы скачиваем, то есть, совершаем действие с чем-то жидким и бесформенным.<｜end▁of▁sentence｜>'"
      ]
     },
     "execution_count": 12,
     "metadata": {},
     "output_type": "execute_result"
    }
   ],
   "source": [
    "from datasets import Dataset\n",
    "dataset = Dataset.from_pandas(pd.read_csv(\"datasets/Lebedev_messages_5436_with_prompt.csv\"))\n",
    "formatting_dataset = dataset.map(formatting_prompts_func, batched = True)\n",
    "formatting_dataset[\"text\"][1]"
   ]
  },
  {
   "cell_type": "code",
   "execution_count": 13,
   "id": "9ee54246-b0c0-4df5-a087-98e410db0fc1",
   "metadata": {},
   "outputs": [
    {
     "data": {
      "application/vnd.jupyter.widget-view+json": {
       "model_id": "bb7260d0d74546b9b9190bd9e1016ebc",
       "version_major": 2,
       "version_minor": 0
      },
      "text/plain": [
       "Unsloth: Tokenizing [\"text\"]:   0%|          | 0/5436 [00:00<?, ? examples/s]"
      ]
     },
     "metadata": {},
     "output_type": "display_data"
    }
   ],
   "source": [
    "# Настройка тренера\n",
    "from trl import SFTTrainer\n",
    "from transformers import TrainingArguments\n",
    "from unsloth import is_bfloat16_supported\n",
    "trainer = SFTTrainer(\n",
    "    model=model,\n",
    "    tokenizer=tokenizer,\n",
    "    train_dataset=formatting_dataset,\n",
    "    dataset_text_field=\"text\",\n",
    "    max_seq_length=max_seq_length,\n",
    "    dataset_num_proc=1,\n",
    "    args=TrainingArguments(\n",
    "        per_device_train_batch_size=2,\n",
    "        gradient_accumulation_steps=8,\n",
    "        warmup_steps=10,\n",
    "        max_steps=60,\n",
    "        learning_rate=2e-4,\n",
    "        fp16=not is_bfloat16_supported(),\n",
    "        bf16=is_bfloat16_supported(),\n",
    "        logging_steps=10,\n",
    "        optim=\"adamw_8bit\",\n",
    "        weight_decay=0.01,\n",
    "        lr_scheduler_type=\"linear\",\n",
    "        seed=3407,\n",
    "        output_dir=\"outputs/deepseek_r1\",\n",
    "        report_to=[\"tensorboard\"],\n",
    "    ),\n",
    ")"
   ]
  },
  {
   "cell_type": "code",
   "execution_count": 14,
   "id": "ebd3212a-b158-491b-9e6d-baed8f661d50",
   "metadata": {},
   "outputs": [
    {
     "name": "stdout",
     "output_type": "stream",
     "text": [
      "GPU = NVIDIA GeForce RTX 4070 Ti SUPER.\n",
      "Используется 6.051 GB из 15.992 GB vRAM.\n"
     ]
    }
   ],
   "source": [
    "# Показываем текущую статистику vRAM\n",
    "start_gpu_memory = display_vram_stats()"
   ]
  },
  {
   "cell_type": "code",
   "execution_count": 15,
   "id": "23203167-4b6f-497f-aab5-2161db2861e7",
   "metadata": {},
   "outputs": [
    {
     "name": "stderr",
     "output_type": "stream",
     "text": [
      "==((====))==  Unsloth - 2x faster free finetuning | Num GPUs used = 1\n",
      "   \\\\   /|    Num examples = 5,436 | Num Epochs = 1 | Total steps = 60\n",
      "O^O/ \\_/ \\    Batch size per device = 2 | Gradient accumulation steps = 8\n",
      "\\        /    Data Parallel GPUs = 1 | Total batch size (2 x 8 x 1) = 16\n",
      " \"-____-\"     Trainable parameters = 41,943,040/8,000,000,000 (0.52% trained)\n"
     ]
    },
    {
     "name": "stdout",
     "output_type": "stream",
     "text": [
      "Unsloth: Will smartly offload gradients to save VRAM!\n"
     ]
    },
    {
     "data": {
      "text/html": [
       "\n",
       "    <div>\n",
       "      \n",
       "      <progress value='60' max='60' style='width:300px; height:20px; vertical-align: middle;'></progress>\n",
       "      [60/60 05:49, Epoch 0/1]\n",
       "    </div>\n",
       "    <table border=\"1\" class=\"dataframe\">\n",
       "  <thead>\n",
       " <tr style=\"text-align: left;\">\n",
       "      <th>Step</th>\n",
       "      <th>Training Loss</th>\n",
       "    </tr>\n",
       "  </thead>\n",
       "  <tbody>\n",
       "    <tr>\n",
       "      <td>10</td>\n",
       "      <td>2.802000</td>\n",
       "    </tr>\n",
       "    <tr>\n",
       "      <td>20</td>\n",
       "      <td>1.852000</td>\n",
       "    </tr>\n",
       "    <tr>\n",
       "      <td>30</td>\n",
       "      <td>1.646300</td>\n",
       "    </tr>\n",
       "    <tr>\n",
       "      <td>40</td>\n",
       "      <td>1.611100</td>\n",
       "    </tr>\n",
       "    <tr>\n",
       "      <td>50</td>\n",
       "      <td>1.526200</td>\n",
       "    </tr>\n",
       "    <tr>\n",
       "      <td>60</td>\n",
       "      <td>1.487200</td>\n",
       "    </tr>\n",
       "  </tbody>\n",
       "</table><p>"
      ],
      "text/plain": [
       "<IPython.core.display.HTML object>"
      ]
     },
     "metadata": {},
     "output_type": "display_data"
    }
   ],
   "source": [
    "trainer_stats = trainer.train()"
   ]
  },
  {
   "cell_type": "code",
   "execution_count": 16,
   "id": "9aae9bdc-f6fb-4b75-8a2b-6db64a75cac4",
   "metadata": {},
   "outputs": [
    {
     "name": "stdout",
     "output_type": "stream",
     "text": [
      "Обучение длилось 357.3391 секунд (5.96 минут).\n",
      "Максимально использовалось vRAM = 8.852 ГБ.\n",
      "Максимально использовалось vRAM для обучения = 2.801 ГБ.\n",
      "Максимально использовалось vRAM в % от общей памяти = 55.353 %.\n",
      "Максимально использовалось vRAM для обучения в % от общей памяти = 17.515 %.\n"
     ]
    }
   ],
   "source": [
    "# Показываем окончательную статистику памяти и времени\n",
    "display_vram_stats(\"after\", start_gpu_memory)"
   ]
  },
  {
   "cell_type": "markdown",
   "id": "467b8e9a-d747-4890-a8f9-3ba93ab47368",
   "metadata": {},
   "source": [
    "## Тестируем модель DeepSeek R1 после обучения"
   ]
  },
  {
   "cell_type": "code",
   "execution_count": 17,
   "id": "b3437cb2-e223-4931-8257-3545d10caa43",
   "metadata": {},
   "outputs": [
    {
     "name": "stdout",
     "output_type": "stream",
     "text": [
      "\n",
      "Электрочистилки для обуви\n",
      "Электрочистилки для обуви - это хуйня. \n",
      "Если у вас есть электрочистилка для обуви, то вы себе пиздец не чистите обуви. \n",
      "Вот что будет: вы включаете электрочистилку для обуви, она запускается, вы кладете обуви на нее, она нахуй не чистит. \n",
      "А это потому, что электрочистилка для обуви не может ничего сделать с обуви. \n",
      "А если вы хотите, чтобы обуя была чистой, то вы просто сначала ее вымочите.<｜end▁of▁sentence｜>\n"
     ]
    }
   ],
   "source": [
    "question = \"Написать текст, критически оценивающий электрочистилки для обуви.\"\n",
    "\n",
    "FastLanguageModel.for_inference(model)  # Unsloth has 2x faster inference!\n",
    "inputs = tokenizer([prompt_style.format(question, \"\")], return_tensors=\"pt\").to(\"cuda\")\n",
    "\n",
    "outputs = model.generate(\n",
    "    input_ids=inputs.input_ids,\n",
    "    attention_mask=inputs.attention_mask,\n",
    "    max_new_tokens=1200,\n",
    ")\n",
    "response = tokenizer.batch_decode(outputs)\n",
    "print(response[0].split(\"</think>\")[1])"
   ]
  },
  {
   "cell_type": "markdown",
   "id": "1f0c353e-baed-4192-8d97-a91927429197",
   "metadata": {},
   "source": [
    "## Сохраняем адаптеры LoRA и модель"
   ]
  },
  {
   "cell_type": "code",
   "execution_count": 18,
   "id": "b48b55b4-d1b9-49ef-93a6-19940f0fe9b8",
   "metadata": {},
   "outputs": [
    {
     "name": "stdout",
     "output_type": "stream",
     "text": [
      "Unsloth: Merging 4bit and LoRA weights to 16bit...\n",
      "Unsloth: Will use up to 75.13 out of 127.91 RAM for saving.\n",
      "Unsloth: Saving model... This might take 5 minutes ...\n"
     ]
    },
    {
     "name": "stderr",
     "output_type": "stream",
     "text": [
      " 41%|████      | 13/32 [00:00<00:00, 20.92it/s]\n",
      "We will save to Disk and not RAM now.\n",
      "100%|██████████| 32/32 [00:13<00:00,  2.34it/s]\n"
     ]
    },
    {
     "name": "stdout",
     "output_type": "stream",
     "text": [
      "Unsloth: Saving tokenizer... Done.\n",
      "Done.\n",
      "Очистка VRAM...\n",
      "VRAM успешно очищена.\n"
     ]
    }
   ],
   "source": [
    "model.save_pretrained(\"Lebedev_DeepSeek-R1\")\n",
    "tokenizer.save_pretrained(\"Lebedev_DeepSeek-R1\")\n",
    "model.save_pretrained_merged(\"Lebedev_DeepSeek-R1-finetune\", tokenizer)\n",
    "del model\n",
    "del tokenizer\n",
    "del inputs\n",
    "del outputs\n",
    "del trainer\n",
    "del response\n",
    "del trainer_stats\n",
    "del formatting_dataset\n",
    "clear_vram()"
   ]
  },
  {
   "cell_type": "markdown",
   "id": "4c4d9ad9-6ed8-4db6-b5ec-6d38aec915ef",
   "metadata": {},
   "source": [
    "# Gemma 2\n",
    "## Тестируем модель Gemma 2 до обучения"
   ]
  },
  {
   "cell_type": "code",
   "execution_count": 19,
   "id": "b3200850-c7e1-4f93-adb3-682c0d4e89b9",
   "metadata": {},
   "outputs": [
    {
     "name": "stdout",
     "output_type": "stream",
     "text": [
      "==((====))==  Unsloth 2025.3.19: Fast Gemma2 patching. Transformers: 4.50.0.\n",
      "   \\\\   /|    NVIDIA GeForce RTX 4070 Ti SUPER. Num GPUs = 1. Max memory: 15.992 GB. Platform: Windows.\n",
      "O^O/ \\_/ \\    Torch: 2.6.0+cu126. CUDA: 8.9. CUDA Toolkit: 12.6. Triton: 3.2.0\n",
      "\\        /    Bfloat16 = TRUE. FA [Xformers = 0.0.29.post3. FA2 = True]\n",
      " \"-____-\"     Free license: http://github.com/unslothai/unsloth\n",
      "Unsloth: Fast downloading is enabled - ignore downloading bars which are red colored!\n"
     ]
    }
   ],
   "source": [
    "# Загрузка модели\n",
    "model, tokenizer = FastLanguageModel.from_pretrained(\n",
    "    model_name=\"unsloth/gemma-2-9b-it-bnb-4bit\",\n",
    "    max_seq_length=max_seq_length,\n",
    "    dtype=dtype,\n",
    "    load_in_4bit=load_in_4bit,\n",
    ")"
   ]
  },
  {
   "cell_type": "code",
   "execution_count": 20,
   "id": "b25ea05d-ffa6-434c-8a98-1a4c92c791ba",
   "metadata": {},
   "outputs": [
    {
     "name": "stdout",
     "output_type": "stream",
     "text": [
      "\n",
      " \n",
      "В метро, в автобусе, в очереди за кофе – мы все время где-то рядом друг с другом. И это здорово, ведь общение – основа жизни! Но есть одно \"но\", которое не так приятно – несоблюдение личной гигиены. \n",
      "\n",
      "Представьте: вы едете в переполненном автобусе, а рядом с вами человек, который не мылся уже несколько дней. Или вы стоите в очереди, и кто-то рядом с вами громко чихает, не прикрывая рот. Неприятно, правда? \n",
      "\n",
      "Важно помнить, что личная гигиена – это не только про нас самих, но и про тех, кто рядом. Мы все хотим чувствовать себя комфортно и безопасно в общественных местах. А это возможно только тогда, когда каждый из нас заботится о своей чистоте и порядке. \n",
      "\n",
      "Так что давайте быть вежливыми друг к другу и следить за своей гигиеной! Ведь это несложно, а польза от этого огромная. \n",
      "\n",
      "\n",
      "<end_of_turn>\n",
      "<eos>\n"
     ]
    }
   ],
   "source": [
    "alpaca_prompt = \"\"\"Below is an instruction that describes a task, paired with an input that provides further context. Write a response that appropriately completes the request.\n",
    "\n",
    "### Instruction:\n",
    "{}\n",
    "\n",
    "### Input:\n",
    "{}\n",
    "\n",
    "### Response:\n",
    "{}\"\"\"\n",
    "FastLanguageModel.for_inference(model) # Enable native 2x faster inference\n",
    "inputs = tokenizer(\n",
    "[\n",
    "    alpaca_prompt.format(\n",
    "        \"Вы являетесь писателем книг и текстовым блоггером живого журнала, со своим уникальным стилем написания текстов. Пожалуйста, напишите текст на русском языке по следующему заданию.\", # instruction\n",
    "        \"Написать короткий текст, объясняющий, почему важно соблюдать правила личной гигиены в общественных местах.\", # input\n",
    "        \"\", # output - leave this blank for generation!\n",
    "    )\n",
    "], return_tensors = \"pt\").to(\"cuda\")\n",
    "\n",
    "outputs = model.generate(\n",
    "    input_ids=inputs.input_ids,\n",
    "    attention_mask=inputs.attention_mask,\n",
    "    max_new_tokens=500,\n",
    "    temperature = 1.0, top_p = 0.95, top_k = 64,\n",
    ")\n",
    "response = tokenizer.batch_decode(outputs)\n",
    "print(response[0].split(\"### Response:\")[1])"
   ]
  },
  {
   "cell_type": "markdown",
   "id": "e22d0656-d0cd-43e7-9d47-78af912b12b9",
   "metadata": {},
   "source": [
    "## Обучаем Gemma 2"
   ]
  },
  {
   "cell_type": "code",
   "execution_count": 21,
   "id": "705225aa-bdf5-4829-acaa-a7a8ffdabd1d",
   "metadata": {},
   "outputs": [
    {
     "name": "stderr",
     "output_type": "stream",
     "text": [
      "Unsloth 2025.3.19 patched 42 layers with 42 QKV layers, 42 O layers and 42 MLP layers.\n"
     ]
    },
    {
     "data": {
      "application/vnd.jupyter.widget-view+json": {
       "model_id": "bf9b6355a20c4f349401cb138c60fb1a",
       "version_major": 2,
       "version_minor": 0
      },
      "text/plain": [
       "Map:   0%|          | 0/5436 [00:00<?, ? examples/s]"
      ]
     },
     "metadata": {},
     "output_type": "display_data"
    },
    {
     "data": {
      "text/plain": [
       "{'Message': 'Загрузка и скачивание\\nЛюбопытно, что в русском языке процесс передачи данных наружу (на сервер или в память) называется \"загрузка\", а процесс получение данных извне - \"скачивание\".\\nПрекрасный пример: \"Скачать программы из категории Загрузка\".\\nТо есть, наружу мы грузим, совершаем действие с чем-то твердым. А к себе мы скачиваем, то есть, совершаем действие с чем-то жидким и бесформенным.',\n",
       " 'Prompt': 'Напишите текст, объясняющий разницу между терминами \"загрузка\" и \"скачивание\" в контексте работы с данными на русском языке.',\n",
       " 'text': 'Below is an instruction that describes a task, paired with an input that provides further context. Write a response that appropriately completes the request.\\n\\n### Instruction:\\nВы являетесь писателем книг и текстовым блоггером живого журнала, со своим уникальным стилем написания текстов. Пожалуйста, напишите текст на русском языке по следующему заданию.\\n\\n### Input:\\nНапишите текст, объясняющий разницу между терминами \"загрузка\" и \"скачивание\" в контексте работы с данными на русском языке.\\n\\n### Response:\\nЗагрузка и скачивание\\nЛюбопытно, что в русском языке процесс передачи данных наружу (на сервер или в память) называется \"загрузка\", а процесс получение данных извне - \"скачивание\".\\nПрекрасный пример: \"Скачать программы из категории Загрузка\".\\nТо есть, наружу мы грузим, совершаем действие с чем-то твердым. А к себе мы скачиваем, то есть, совершаем действие с чем-то жидким и бесформенным.<eos>'}"
      ]
     },
     "execution_count": 21,
     "metadata": {},
     "output_type": "execute_result"
    }
   ],
   "source": [
    "model = FastLanguageModel.get_peft_model(\n",
    "    model,\n",
    "    r = 16,\n",
    "    target_modules = [\"q_proj\", \"k_proj\", \"v_proj\", \"o_proj\", \"gate_proj\", \"up_proj\", \"down_proj\",],\n",
    "    lora_alpha = 16,\n",
    "    lora_dropout = 0,\n",
    "    bias = \"none\",\n",
    "    use_gradient_checkpointing = \"unsloth\",\n",
    "    random_state = 3407,\n",
    "    use_rslora = False,\n",
    "    loftq_config = None,\n",
    ")\n",
    "\n",
    "# Подготовка данных для обучения\n",
    "EOS_TOKEN = tokenizer.eos_token  # Добавляем EOS-токен (используется в formatting_prompts_func)\n",
    "\n",
    "formatting_dataset = dataset.map(formatting_prompts_func, batched=True)\n",
    "formatting_dataset[1]"
   ]
  },
  {
   "cell_type": "code",
   "execution_count": 22,
   "id": "23ca469f-c3a3-494e-a115-2dcf62014ce1",
   "metadata": {},
   "outputs": [
    {
     "data": {
      "application/vnd.jupyter.widget-view+json": {
       "model_id": "9bcc6af4ac0f4ad29992a0a09178a0ae",
       "version_major": 2,
       "version_minor": 0
      },
      "text/plain": [
       "Unsloth: Tokenizing [\"text\"]:   0%|          | 0/5436 [00:00<?, ? examples/s]"
      ]
     },
     "metadata": {},
     "output_type": "display_data"
    }
   ],
   "source": [
    "# Настройка тренера для Gemma2\n",
    "trainer = SFTTrainer(\n",
    "    model=model,\n",
    "    tokenizer=tokenizer,\n",
    "    train_dataset=formatting_dataset,\n",
    "    dataset_text_field = \"text\",\n",
    "    max_seq_length = max_seq_length,\n",
    "    dataset_num_proc = 1,\n",
    "    packing = False,\n",
    "    args = TrainingArguments(\n",
    "        per_device_train_batch_size = 2,\n",
    "        gradient_accumulation_steps = 4,\n",
    "        warmup_steps = 5,\n",
    "        max_steps = 60,\n",
    "        learning_rate = 2e-4,\n",
    "        fp16 = not is_bfloat16_supported(),\n",
    "        bf16 = is_bfloat16_supported(),\n",
    "        logging_steps = 10,\n",
    "        optim = \"adamw_8bit\",\n",
    "        weight_decay = 0.01,\n",
    "        lr_scheduler_type = \"linear\",\n",
    "        seed = 3407,\n",
    "        output_dir=\"outputs/gemma2\",\n",
    "        report_to=[\"tensorboard\"],\n",
    "    ),\n",
    ")"
   ]
  },
  {
   "cell_type": "code",
   "execution_count": 23,
   "id": "f6833381-cb55-469d-b7c4-5fc5295d8013",
   "metadata": {},
   "outputs": [
    {
     "name": "stdout",
     "output_type": "stream",
     "text": [
      "GPU = NVIDIA GeForce RTX 4070 Ti SUPER.\n",
      "Используется 13.717 GB из 15.992 GB vRAM.\n"
     ]
    }
   ],
   "source": [
    "# Показываем текущую статистику vRAM\n",
    "start_gpu_memory = display_vram_stats()"
   ]
  },
  {
   "cell_type": "code",
   "execution_count": 24,
   "id": "82a23be0-e8b8-45df-a583-51c65e9f5efa",
   "metadata": {},
   "outputs": [
    {
     "name": "stderr",
     "output_type": "stream",
     "text": [
      "==((====))==  Unsloth - 2x faster free finetuning | Num GPUs used = 1\n",
      "   \\\\   /|    Num examples = 5,436 | Num Epochs = 1 | Total steps = 60\n",
      "O^O/ \\_/ \\    Batch size per device = 2 | Gradient accumulation steps = 4\n",
      "\\        /    Data Parallel GPUs = 1 | Total batch size (2 x 4 x 1) = 8\n",
      " \"-____-\"     Trainable parameters = 54,018,048/9,000,000,000 (0.60% trained)\n"
     ]
    },
    {
     "data": {
      "text/html": [
       "\n",
       "    <div>\n",
       "      \n",
       "      <progress value='60' max='60' style='width:300px; height:20px; vertical-align: middle;'></progress>\n",
       "      [60/60 03:08, Epoch 0/1]\n",
       "    </div>\n",
       "    <table border=\"1\" class=\"dataframe\">\n",
       "  <thead>\n",
       " <tr style=\"text-align: left;\">\n",
       "      <th>Step</th>\n",
       "      <th>Training Loss</th>\n",
       "    </tr>\n",
       "  </thead>\n",
       "  <tbody>\n",
       "    <tr>\n",
       "      <td>10</td>\n",
       "      <td>2.333700</td>\n",
       "    </tr>\n",
       "    <tr>\n",
       "      <td>20</td>\n",
       "      <td>1.683800</td>\n",
       "    </tr>\n",
       "    <tr>\n",
       "      <td>30</td>\n",
       "      <td>1.665800</td>\n",
       "    </tr>\n",
       "    <tr>\n",
       "      <td>40</td>\n",
       "      <td>1.589600</td>\n",
       "    </tr>\n",
       "    <tr>\n",
       "      <td>50</td>\n",
       "      <td>1.573700</td>\n",
       "    </tr>\n",
       "    <tr>\n",
       "      <td>60</td>\n",
       "      <td>1.644000</td>\n",
       "    </tr>\n",
       "  </tbody>\n",
       "</table><p>"
      ],
      "text/plain": [
       "<IPython.core.display.HTML object>"
      ]
     },
     "metadata": {},
     "output_type": "display_data"
    }
   ],
   "source": [
    "trainer_stats = trainer.train()"
   ]
  },
  {
   "cell_type": "code",
   "execution_count": 25,
   "id": "e43f9f4c-fc3b-41ae-b3c8-da418ef08d4b",
   "metadata": {},
   "outputs": [
    {
     "name": "stdout",
     "output_type": "stream",
     "text": [
      "Обучение длилось 192.2821 секунд (3.2 минут).\n",
      "Максимально использовалось vRAM = 13.717 ГБ.\n",
      "Максимально использовалось vRAM для обучения = 0.0 ГБ.\n",
      "Максимально использовалось vRAM в % от общей памяти = 85.774 %.\n",
      "Максимально использовалось vRAM для обучения в % от общей памяти = 0.0 %.\n"
     ]
    }
   ],
   "source": [
    "# Показываем окончательную статистику памяти и времени\n",
    "display_vram_stats(\"after\", start_gpu_memory)"
   ]
  },
  {
   "cell_type": "markdown",
   "id": "0070f352-226f-429c-8f48-3dff78b6ba0c",
   "metadata": {},
   "source": [
    "## Тестируем модель Gemma 2 после обучения"
   ]
  },
  {
   "cell_type": "code",
   "execution_count": 26,
   "id": "e26ea899-c5fd-4263-9b4b-1ecd24acc7d4",
   "metadata": {},
   "outputs": [
    {
     "name": "stdout",
     "output_type": "stream",
     "text": [
      "\n",
      "Личная гигиена\n",
      "В общественных местах важно соблюдать личную гигиену. Это касается не только мытья рук, но и других аспектов. Например, не стоит есть в общественном транспорте, так как это может привести к попаданию крошек на сиденье и в воздух. Также важно не разговаривать по телефону в общественном транспорте, так как это может быть неприятно для других пассажиров.\n",
      "Важно помнить, что личная гигиена - это не только забота о себе, но и забота о других людях.<eos>\n"
     ]
    }
   ],
   "source": [
    "FastLanguageModel.for_inference(model) # Enable native 2x faster inference\n",
    "inputs = tokenizer(\n",
    "[\n",
    "    alpaca_prompt.format(\n",
    "        \"Вы являетесь писателем книг и текстовым блоггером живого журнала, со своим уникальным стилем написания текстов. Пожалуйста, напишите текст на русском языке по следующему заданию.\", # instruction\n",
    "        \"Написать текст, объясняющий, почему важно соблюдать правила личной гигиены в общественных местах.\", # input\n",
    "        \"\", # output - leave this blank for generation!\n",
    "    )\n",
    "], return_tensors = \"pt\").to(\"cuda\")\n",
    "\n",
    "outputs = model.generate(\n",
    "    input_ids=inputs.input_ids,\n",
    "    attention_mask=inputs.attention_mask,\n",
    "    max_new_tokens=500,\n",
    "    temperature = 1.0, top_p = 0.95, top_k = 64,\n",
    ")\n",
    "response = tokenizer.batch_decode(outputs)\n",
    "print(response[0].split(\"### Response:\")[1])"
   ]
  },
  {
   "cell_type": "markdown",
   "id": "5d3cadc4-d96d-4b2e-91b9-eebbf9f52cd9",
   "metadata": {},
   "source": [
    "## Сохраняем адаптеры LoRA и модель"
   ]
  },
  {
   "cell_type": "code",
   "execution_count": 27,
   "id": "94f89f12-86a6-4526-9cd2-ebe5a023ec0b",
   "metadata": {},
   "outputs": [
    {
     "name": "stdout",
     "output_type": "stream",
     "text": [
      "Unsloth: Merging 4bit and LoRA weights to 16bit...\n",
      "Unsloth: Will use up to 74.77 out of 127.91 RAM for saving.\n",
      "Unsloth: Saving model... This might take 5 minutes ...\n"
     ]
    },
    {
     "name": "stderr",
     "output_type": "stream",
     "text": [
      "100%|██████████| 42/42 [00:21<00:00,  1.95it/s]\n"
     ]
    },
    {
     "name": "stdout",
     "output_type": "stream",
     "text": [
      "Unsloth: Saving tokenizer... Done.\n",
      "Done.\n",
      "Очистка VRAM...\n",
      "VRAM успешно очищена.\n"
     ]
    }
   ],
   "source": [
    "model.save_pretrained(\"Lebedev_Gemma2\")\n",
    "tokenizer.save_pretrained(\"Lebedev_Gemma2\")\n",
    "model.save_pretrained_merged(\"Lebedev_Gemma2-finetune\", tokenizer)\n",
    "del model\n",
    "del tokenizer\n",
    "del inputs\n",
    "del outputs\n",
    "del trainer\n",
    "del response\n",
    "del trainer_stats\n",
    "del formatting_dataset\n",
    "clear_vram()"
   ]
  },
  {
   "cell_type": "markdown",
   "id": "d837cee9-258d-4321-bfaa-4a9181cdb602",
   "metadata": {},
   "source": [
    "# Llama 3.1\n",
    "## Тестируем модель Llama 3.1 до обучения"
   ]
  },
  {
   "cell_type": "code",
   "execution_count": 28,
   "id": "cd0902e6-efc0-4b79-986b-204a0f39d32f",
   "metadata": {},
   "outputs": [
    {
     "name": "stdout",
     "output_type": "stream",
     "text": [
      "==((====))==  Unsloth 2025.3.19: Fast Llama patching. Transformers: 4.50.0.\n",
      "   \\\\   /|    NVIDIA GeForce RTX 4070 Ti SUPER. Num GPUs = 1. Max memory: 15.992 GB. Platform: Windows.\n",
      "O^O/ \\_/ \\    Torch: 2.6.0+cu126. CUDA: 8.9. CUDA Toolkit: 12.6. Triton: 3.2.0\n",
      "\\        /    Bfloat16 = TRUE. FA [Xformers = 0.0.29.post3. FA2 = True]\n",
      " \"-____-\"     Free license: http://github.com/unslothai/unsloth\n",
      "Unsloth: Fast downloading is enabled - ignore downloading bars which are red colored!\n"
     ]
    }
   ],
   "source": [
    "# Загрузка модели\n",
    "model, tokenizer = FastLanguageModel.from_pretrained(\n",
    "    model_name=\"unsloth/Meta-Llama-3.1-8B-Instruct-unsloth-bnb-4bit\",\n",
    "    max_seq_length=max_seq_length,\n",
    "    dtype=dtype,\n",
    "    load_in_4bit=load_in_4bit,\n",
    ")"
   ]
  },
  {
   "cell_type": "code",
   "execution_count": 29,
   "id": "3ab682fc-86c1-480f-afef-2ffb63408e09",
   "metadata": {},
   "outputs": [
    {
     "name": "stdout",
     "output_type": "stream",
     "text": [
      "\n",
      "Дневник.\n",
      "\n",
      "Здоровье не только физическое, но и гигиеническое. Чтобы защитить своих же себя, а также окружающих людей от распространения инфекций, важно соблюдать простейшие нормы личной гигиены. Делайте это просто. Прежде всего в местах с большой общественной активностью - общественные туалеты в школах, торговых центрах или на транспорте.\n",
      "Делайте это в таких местах. \n",
      "Например в общественных местах: на массовых событиях. Следите за собой во время физических нагрузок и после. После того, как Вы были в местах общественной активности. Это очень просто. Умный способ сдерживания распространения инфекции, и в данном случае это ваш долг. Всегда помните о важности личной гигиены. Применяйте принцип \"человек-окружающая среда\" - Вы все-таки находитеесь в ней. \n",
      "\n",
      "### Внимание:\n",
      "Если в Вашей стране существует законная норма личной гигиены, описанная в тексте не стоит ориентироваться на них при написании текста. Описание норм личной гигиены может включать в себя элементы гигиеники и предупреждения относительно случаев заболеваний.\n",
      "Этот текст представляет собой простой руководящий текст по теме. Основная цель: привлечь внимание читателей на важности личной гигиены. Используется только гигиенический образ действий в общественных местах, которая уже сформулирована в простом тоне. Чтобы прочитать общественную гигиеническую информацию, просто кликните здесь.\n",
      "Следуя простому принципу - \"человек - среда\", каждый человек имеет большое влияние на здоровье окружающей среды. Чтобы сохранить баланс и благополучие окружающей среды, важную роль играют ежедневная практика и здоровые навыки. Мы надеемся, что предоставленные советы были полезны и информативными для вас. Пожалуйста, запланируйте прочитать наше следующее совместное расширение\n"
     ]
    }
   ],
   "source": [
    "FastLanguageModel.for_inference(model) # Enable native 2x faster inference\n",
    "inputs = tokenizer(\n",
    "[\n",
    "    alpaca_prompt.format(\n",
    "        \"Вы являетесь писателем книг и текстовым блоггером живого журнала, со своим уникальным стилем написания текстов. Пожалуйста, напишите текст на русском языке по следующему заданию.\", # instruction\n",
    "        \"Написать короткий текст, объясняющий, почему важно соблюдать правила личной гигиены в общественных местах.\", # input\n",
    "        \"\", # output - leave this blank for generation!\n",
    "    )\n",
    "], return_tensors = \"pt\").to(\"cuda\")\n",
    "\n",
    "outputs = model.generate(\n",
    "    input_ids=inputs.input_ids,\n",
    "    attention_mask=inputs.attention_mask,\n",
    "    max_new_tokens=500,\n",
    "    temperature = 1.5, min_p = 0.1,\n",
    ")\n",
    "response = tokenizer.batch_decode(outputs)\n",
    "print(response[0].split(\"### Response:\")[1])"
   ]
  },
  {
   "cell_type": "markdown",
   "id": "64e55075-2206-484b-a66c-e7cb5fbc0701",
   "metadata": {},
   "source": [
    "## Обучаем Llama 3.1"
   ]
  },
  {
   "cell_type": "code",
   "execution_count": 30,
   "id": "f965ff51-0202-4a47-8f79-fecf3f55fb0c",
   "metadata": {},
   "outputs": [
    {
     "data": {
      "application/vnd.jupyter.widget-view+json": {
       "model_id": "2a22c37112304dfd82b278fb991b9793",
       "version_major": 2,
       "version_minor": 0
      },
      "text/plain": [
       "Map:   0%|          | 0/5436 [00:00<?, ? examples/s]"
      ]
     },
     "metadata": {},
     "output_type": "display_data"
    },
    {
     "data": {
      "text/plain": [
       "{'Message': 'Загрузка и скачивание\\nЛюбопытно, что в русском языке процесс передачи данных наружу (на сервер или в память) называется \"загрузка\", а процесс получение данных извне - \"скачивание\".\\nПрекрасный пример: \"Скачать программы из категории Загрузка\".\\nТо есть, наружу мы грузим, совершаем действие с чем-то твердым. А к себе мы скачиваем, то есть, совершаем действие с чем-то жидким и бесформенным.',\n",
       " 'Prompt': 'Напишите текст, объясняющий разницу между терминами \"загрузка\" и \"скачивание\" в контексте работы с данными на русском языке.',\n",
       " 'text': 'Below is an instruction that describes a task, paired with an input that provides further context. Write a response that appropriately completes the request.\\n\\n### Instruction:\\nВы являетесь писателем книг и текстовым блоггером живого журнала, со своим уникальным стилем написания текстов. Пожалуйста, напишите текст на русском языке по следующему заданию.\\n\\n### Input:\\nНапишите текст, объясняющий разницу между терминами \"загрузка\" и \"скачивание\" в контексте работы с данными на русском языке.\\n\\n### Response:\\nЗагрузка и скачивание\\nЛюбопытно, что в русском языке процесс передачи данных наружу (на сервер или в память) называется \"загрузка\", а процесс получение данных извне - \"скачивание\".\\nПрекрасный пример: \"Скачать программы из категории Загрузка\".\\nТо есть, наружу мы грузим, совершаем действие с чем-то твердым. А к себе мы скачиваем, то есть, совершаем действие с чем-то жидким и бесформенным.<|eot_id|>'}"
      ]
     },
     "execution_count": 30,
     "metadata": {},
     "output_type": "execute_result"
    }
   ],
   "source": [
    "model = FastLanguageModel.get_peft_model(\n",
    "    model,\n",
    "    r = 16,\n",
    "    target_modules = [\"q_proj\", \"k_proj\", \"v_proj\", \"o_proj\", \"gate_proj\", \"up_proj\", \"down_proj\",],\n",
    "    lora_alpha = 16,\n",
    "    lora_dropout = 0,\n",
    "    bias = \"none\",\n",
    "    use_gradient_checkpointing = \"unsloth\",\n",
    "    random_state = 3407,\n",
    "    use_rslora = False,\n",
    "    loftq_config = None,\n",
    ")\n",
    "\n",
    "# Подготовка данных для обучения\n",
    "EOS_TOKEN = tokenizer.eos_token  # Добавляем EOS-токен (используется в formatting_prompts_func)\n",
    "\n",
    "formatting_dataset = dataset.map(formatting_prompts_func, batched=True)\n",
    "formatting_dataset[1]"
   ]
  },
  {
   "cell_type": "code",
   "execution_count": 31,
   "id": "54413241-bdd0-4f43-b3ac-a05961c6b58d",
   "metadata": {},
   "outputs": [
    {
     "data": {
      "application/vnd.jupyter.widget-view+json": {
       "model_id": "f89b4b4ae7604723a0c1bf0fa824588b",
       "version_major": 2,
       "version_minor": 0
      },
      "text/plain": [
       "Unsloth: Tokenizing [\"text\"]:   0%|          | 0/5436 [00:00<?, ? examples/s]"
      ]
     },
     "metadata": {},
     "output_type": "display_data"
    }
   ],
   "source": [
    "# Настройка тренера для Llama 3.1\n",
    "trainer = SFTTrainer(\n",
    "    model=model,\n",
    "    tokenizer=tokenizer,\n",
    "    train_dataset=formatting_dataset,\n",
    "    dataset_text_field = \"text\",\n",
    "    max_seq_length = max_seq_length,\n",
    "    dataset_num_proc = 1,\n",
    "    packing = False,\n",
    "    args = TrainingArguments(\n",
    "        per_device_train_batch_size = 2,\n",
    "        gradient_accumulation_steps = 4,\n",
    "        warmup_steps = 5,\n",
    "        max_steps = 60,\n",
    "        learning_rate = 2e-4,\n",
    "        fp16 = not is_bfloat16_supported(),\n",
    "        bf16 = is_bfloat16_supported(),\n",
    "        logging_steps = 10,\n",
    "        optim = \"adamw_8bit\",\n",
    "        weight_decay = 0.01,\n",
    "        lr_scheduler_type = \"linear\",\n",
    "        seed = 3407,\n",
    "        output_dir=\"outputs/llama31\",\n",
    "        report_to=[\"tensorboard\"],\n",
    "    ),\n",
    ")"
   ]
  },
  {
   "cell_type": "code",
   "execution_count": 32,
   "id": "955ca78e-ea93-4419-b79e-9c0ea39c8f5e",
   "metadata": {},
   "outputs": [
    {
     "name": "stdout",
     "output_type": "stream",
     "text": [
      "GPU = NVIDIA GeForce RTX 4070 Ti SUPER.\n",
      "Используется 15.547 GB из 15.992 GB vRAM.\n"
     ]
    }
   ],
   "source": [
    "# Показываем текущую статистику vRAM\n",
    "start_gpu_memory = display_vram_stats()"
   ]
  },
  {
   "cell_type": "code",
   "execution_count": 33,
   "id": "84abba6c-1c51-4e2e-8262-e686dca80256",
   "metadata": {},
   "outputs": [
    {
     "name": "stderr",
     "output_type": "stream",
     "text": [
      "==((====))==  Unsloth - 2x faster free finetuning | Num GPUs used = 1\n",
      "   \\\\   /|    Num examples = 5,436 | Num Epochs = 1 | Total steps = 60\n",
      "O^O/ \\_/ \\    Batch size per device = 2 | Gradient accumulation steps = 4\n",
      "\\        /    Data Parallel GPUs = 1 | Total batch size (2 x 4 x 1) = 8\n",
      " \"-____-\"     Trainable parameters = 41,943,040/8,000,000,000 (0.52% trained)\n"
     ]
    },
    {
     "data": {
      "text/html": [
       "\n",
       "    <div>\n",
       "      \n",
       "      <progress value='60' max='60' style='width:300px; height:20px; vertical-align: middle;'></progress>\n",
       "      [60/60 02:47, Epoch 0/1]\n",
       "    </div>\n",
       "    <table border=\"1\" class=\"dataframe\">\n",
       "  <thead>\n",
       " <tr style=\"text-align: left;\">\n",
       "      <th>Step</th>\n",
       "      <th>Training Loss</th>\n",
       "    </tr>\n",
       "  </thead>\n",
       "  <tbody>\n",
       "    <tr>\n",
       "      <td>10</td>\n",
       "      <td>2.093800</td>\n",
       "    </tr>\n",
       "    <tr>\n",
       "      <td>20</td>\n",
       "      <td>1.539000</td>\n",
       "    </tr>\n",
       "    <tr>\n",
       "      <td>30</td>\n",
       "      <td>1.541900</td>\n",
       "    </tr>\n",
       "    <tr>\n",
       "      <td>40</td>\n",
       "      <td>1.468500</td>\n",
       "    </tr>\n",
       "    <tr>\n",
       "      <td>50</td>\n",
       "      <td>1.456000</td>\n",
       "    </tr>\n",
       "    <tr>\n",
       "      <td>60</td>\n",
       "      <td>1.519700</td>\n",
       "    </tr>\n",
       "  </tbody>\n",
       "</table><p>"
      ],
      "text/plain": [
       "<IPython.core.display.HTML object>"
      ]
     },
     "metadata": {},
     "output_type": "display_data"
    }
   ],
   "source": [
    "trainer_stats = trainer.train()"
   ]
  },
  {
   "cell_type": "code",
   "execution_count": 34,
   "id": "4b7c68d3-810d-4622-92cf-8707d36b23b9",
   "metadata": {},
   "outputs": [
    {
     "name": "stdout",
     "output_type": "stream",
     "text": [
      "Обучение длилось 170.8137 секунд (2.85 минут).\n",
      "Максимально использовалось vRAM = 15.547 ГБ.\n",
      "Максимально использовалось vRAM для обучения = 0.0 ГБ.\n",
      "Максимально использовалось vRAM в % от общей памяти = 97.217 %.\n",
      "Максимально использовалось vRAM для обучения в % от общей памяти = 0.0 %.\n"
     ]
    }
   ],
   "source": [
    "# Показываем окончательную статистику памяти и времени\n",
    "display_vram_stats(\"after\", start_gpu_memory)"
   ]
  },
  {
   "cell_type": "markdown",
   "id": "16e012ec-934d-41f6-961b-9ffec0785d12",
   "metadata": {},
   "source": [
    "## Тестируем модель Llama 3.1 после обучения"
   ]
  },
  {
   "cell_type": "code",
   "execution_count": 35,
   "id": "5e4e0033-2290-440e-8f7b-471632a83072",
   "metadata": {},
   "outputs": [
    {
     "name": "stdout",
     "output_type": "stream",
     "text": [
      "\n",
      "Личная гигиена в общественных местах\n",
      "Очень важный вопрос. Считается, что личная гигиена - это все, что происходит в душе и на банных катафалках, в санузле, душевой и на помойке, а в остальных частях общественных мест нужно обращаться как можно меньше. \n",
      "В частности, при посещении общественных туалетов нужно только опустить нахуй, ни при чем в дальнейшем в туалете не подлизаться, не пиздить, не потрогать себя, не вздохнуть в сторону сиска.\n",
      "Во всем остальном не важно. В бассейнах можно есть, курить, пить, жрать, драть и подлизываться как угодно. Но только на помойке можно не пиздить. И только на помойке нужно вообще не подлизываться. А на всех остальных местах в бассейнах - как хочешь.\n",
      "И не важно, чем ты занялся в санузле или душе или помойке, все будет полезно и полезнее, чем если бы ты подлизывался или дрочил или пиздил или вздохнул в сторону сиска. \n",
      "Где вы находитесь в общественных местах, личная гигиена никогда не сможет быть чем-то дурным. \n",
      "Большинство людей все равно никаких личных гигиенических процедур никогда не соблюдают на людях. В тапочке отрыците бювеле в столовой. И не пиздите ни в чём.\n",
      "Все будет хорошо!<|eot_id|>\n"
     ]
    }
   ],
   "source": [
    "FastLanguageModel.for_inference(model) # Enable native 2x faster inference\n",
    "inputs = tokenizer(\n",
    "[\n",
    "    alpaca_prompt.format(\n",
    "        \"Вы являетесь писателем книг и текстовым блоггером живого журнала, со своим уникальным стилем написания текстов. Пожалуйста, напишите текст на русском языке по следующему заданию.\", # instruction\n",
    "        \"Написать текст, объясняющий, почему важно соблюдать правила личной гигиены в общественных местах.\", # input\n",
    "        \"\", # output - leave this blank for generation!\n",
    "    )\n",
    "], return_tensors = \"pt\").to(\"cuda\")\n",
    "\n",
    "outputs = model.generate(\n",
    "    input_ids=inputs.input_ids,\n",
    "    attention_mask=inputs.attention_mask,\n",
    "    max_new_tokens=500,\n",
    "    temperature = 1.5, min_p = 0.1,\n",
    ")\n",
    "response = tokenizer.batch_decode(outputs)\n",
    "print(response[0].split(\"### Response:\")[1])\n"
   ]
  },
  {
   "cell_type": "markdown",
   "id": "8427faff-f2db-4e62-bc00-8e28249ddfd0",
   "metadata": {},
   "source": [
    "## Сохраняем адаптеры LoRA и модель"
   ]
  },
  {
   "cell_type": "code",
   "execution_count": 36,
   "id": "27fc785a-8eea-4dd3-90e9-5a257d38158c",
   "metadata": {},
   "outputs": [
    {
     "name": "stdout",
     "output_type": "stream",
     "text": [
      "Unsloth: Merging 4bit and LoRA weights to 16bit...\n",
      "Unsloth: Will use up to 74.86 out of 127.91 RAM for saving.\n",
      "Unsloth: Saving model... This might take 5 minutes ...\n"
     ]
    },
    {
     "name": "stderr",
     "output_type": "stream",
     "text": [
      "100%|██████████| 32/32 [00:13<00:00,  2.41it/s]\n"
     ]
    },
    {
     "name": "stdout",
     "output_type": "stream",
     "text": [
      "Unsloth: Saving tokenizer... Done.\n",
      "Done.\n",
      "Очистка VRAM...\n",
      "VRAM успешно очищена.\n"
     ]
    }
   ],
   "source": [
    "model.save_pretrained(\"Lebedev_Llama31\")\n",
    "tokenizer.save_pretrained(\"Lebedev_Llama31\")\n",
    "model.save_pretrained_merged(\"Lebedev_Llama31-finetune\", tokenizer)\n",
    "del model\n",
    "del tokenizer\n",
    "del inputs\n",
    "del outputs\n",
    "del trainer\n",
    "del response\n",
    "del trainer_stats\n",
    "del formatting_dataset\n",
    "clear_vram()"
   ]
  },
  {
   "cell_type": "markdown",
   "id": "baf253f8-7b80-4de8-a94f-8d4ceaea330f",
   "metadata": {},
   "source": [
    "# Сравнение и вывод"
   ]
  },
  {
   "cell_type": "markdown",
   "id": "a6c05b20-8a8d-4ace-a7db-75f2dd97ddaf",
   "metadata": {},
   "source": [
    "### Сравнение моделей\n",
    "\n",
    "1. DeepSeek R1:\n",
    "\n",
    "   • До обучения: Модель демонстрировала способность генерировать текст на русском языке в заданном стиле, но в некоторых случаях использовала формальный и структурированный стиль.\n",
    "\n",
    "   • После обучения: Модель смогла адаптироваться к стилю блоггера, включая использование некорректной лексики. Однако в некоторых случаях текст был чрезмерно грубым и выходил за рамки приемлемого тона.\n",
    "\n",
    "2. Gemma 2:\n",
    "\n",
    "   • До обучения: Модель генерировала тексты в более нейтральной и формальной манере, что не соответствовало заданному стилю.\n",
    "\n",
    "   • После обучения: Модель улучшила стиль, но сохраняла некоторую нейтральность. Некорректная лексика использовалась реже, чем в DeepSeek R1.\n",
    "\n",
    "3. Llama 3.1:\n",
    "\n",
    "   • До обучения: Генерация текста была формальной, с некоторыми отклонениями в сторону избыточной информации.\n",
    "\n",
    "   • После обучения: Модель адаптировалась к заданному стилю, но иногда текст становился слишком грубым и неструктурированным. В некоторых случаях модель генерировала неприемлемые высказывания.\n",
    "\n",
    "---\n",
    "\n",
    "### Итоговый вывод\n",
    "\n",
    "• Лучшая модель: DeepSeek R1. Она лучше всего адаптировалась к заданному стилю (простой язык, некорректная лексика). Несмотря на некоторые грубые ошибки, модель демонстрировала наиболее близкий к заданному стиль текста.\n",
    "\n",
    "• Gemma 2 также показала хорошие результаты, но ее тексты были более формальными, хоть и в большей степени осмысленными.\n",
    "\n",
    "• Llama 3.1 оказалась самой производительной, но тексты были слишком грубыми, не связанными, и не всегда соответствовали стилю.\n",
    "\n",
    "Для задачи генерации текста в стиле блоггера больше подходит DeepSeek R1, так как она лучше всего соответствовала стилю и задаче. Однако, если требуется более мягкий стиль с минимальными отклонениями, можно рассмотреть Gemma 2."
   ]
  },
  {
   "cell_type": "code",
   "execution_count": null,
   "id": "0e574d15-45c1-47be-9c8f-6c2ee0317675",
   "metadata": {},
   "outputs": [],
   "source": []
  }
 ],
 "metadata": {
  "kernelspec": {
   "display_name": "Python 3 (ipykernel)",
   "language": "python",
   "name": "python3"
  },
  "language_info": {
   "codemirror_mode": {
    "name": "ipython",
    "version": 3
   },
   "file_extension": ".py",
   "mimetype": "text/x-python",
   "name": "python",
   "nbconvert_exporter": "python",
   "pygments_lexer": "ipython3",
   "version": "3.11.11"
  }
 },
 "nbformat": 4,
 "nbformat_minor": 5
}
